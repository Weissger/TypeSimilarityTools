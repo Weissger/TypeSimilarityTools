{
 "cells": [
  {
   "cell_type": "code",
   "execution_count": 11,
   "metadata": {
    "collapsed": true
   },
   "outputs": [],
   "source": [
    "SERVER=\"http://zaire.dimis.fim.uni-passau.de:8585/bigdata/namespace/dbpedia_complete/sparql\"\n",
    "LOG_LEVEL=\"DEBUG\""
   ]
  },
  {
   "cell_type": "code",
   "execution_count": 12,
   "metadata": {
    "collapsed": true
   },
   "outputs": [],
   "source": [
    "from src.TypeSimilarityTools import TypeSimilarityTools"
   ]
  },
  {
   "cell_type": "code",
   "execution_count": 13,
   "metadata": {
    "collapsed": false
   },
   "outputs": [],
   "source": [
    "tst = TypeSimilarityTools(server=SERVER, log_level=LOG_LEVEL)"
   ]
  },
  {
   "cell_type": "code",
   "execution_count": 14,
   "metadata": {
    "collapsed": false
   },
   "outputs": [
    {
     "name": "stderr",
     "output_type": "stream",
     "text": [
      "INFO:TypeSimilarityTools:SimilarityCalculator.get_all_parent_concept_values: Got parents for best parent search in : 0:00:00.028754\n",
      "INFO:TypeSimilarityTools:SimilarityCalculator.get_all_parent_concept_values: Got parent values in: 0:00:02.777574\n",
      "INFO:TypeSimilarityTools:SimilarityCalculator.get_best_parent_concept_value: Found best parent in : 0:00:02.809153\n"
     ]
    },
    {
     "data": {
      "text/plain": [
       "0.10003211303789339"
      ]
     },
     "execution_count": 14,
     "metadata": {},
     "output_type": "execute_result"
    }
   ],
   "source": [
    "tst.get_type_similarity(\"http://dbpedia.org/ontology/Capital\", \"http://dbpedia.org/ontology/Village\")"
   ]
  },
  {
   "cell_type": "code",
   "execution_count": 15,
   "metadata": {
    "collapsed": false
   },
   "outputs": [
    {
     "name": "stderr",
     "output_type": "stream",
     "text": [
      "INFO:TypeSimilarityTools:SimilarityCalculator.get_all_parent_concept_values: Got parents for best parent search in : 0:00:00.027889\n",
      "INFO:TypeSimilarityTools:SimilarityCalculator.get_all_parent_concept_values: Got parent values in: 0:00:02.094017\n",
      "INFO:TypeSimilarityTools:SimilarityCalculator.get_best_parent_concept_value: Found best parent in : 0:00:02.124809\n"
     ]
    },
    {
     "data": {
      "text/plain": [
       "0.25"
      ]
     },
     "execution_count": 15,
     "metadata": {},
     "output_type": "execute_result"
    }
   ],
   "source": [
    "tst.get_type_similarity(\"http://dbpedia.org/ontology/Capital\", \"http://dbpedia.org/ontology/City\")"
   ]
  },
  {
   "cell_type": "code",
   "execution_count": 16,
   "metadata": {
    "collapsed": false
   },
   "outputs": [
    {
     "name": "stderr",
     "output_type": "stream",
     "text": [
      "INFO:TypeSimilarityTools:SimilarityCalculator.get_all_parent_concept_values: Got parents for best parent search in : 0:00:00.039240\n",
      "INFO:TypeSimilarityTools:SimilarityCalculator.get_all_parent_concept_values: Got parent values in: 0:00:02.651589\n",
      "INFO:TypeSimilarityTools:SimilarityCalculator.get_best_parent_concept_value: Found best parent in : 0:00:02.693644\n"
     ]
    },
    {
     "data": {
      "text/plain": [
       "0.10477024581070825"
      ]
     },
     "execution_count": 16,
     "metadata": {},
     "output_type": "execute_result"
    }
   ],
   "source": [
    "tst.get_type_similarity(\"http://dbpedia.org/ontology/City\", \"http://dbpedia.org/ontology/Village\")"
   ]
  },
  {
   "cell_type": "code",
   "execution_count": 17,
   "metadata": {
    "collapsed": false
   },
   "outputs": [
    {
     "name": "stderr",
     "output_type": "stream",
     "text": [
      "INFO:TypeSimilarityTools:SimilarityCalculator.get_all_parent_concept_values: Got parents for best parent search in : 0:00:00.039244\n",
      "INFO:TypeSimilarityTools:SimilarityCalculator.get_all_parent_concept_values: Got parent values in: 0:00:02.381898\n",
      "INFO:TypeSimilarityTools:SimilarityCalculator.get_best_parent_concept_value: Found best parent in : 0:00:02.423485\n"
     ]
    },
    {
     "data": {
      "text/plain": [
       "0.11605359957961114"
      ]
     },
     "execution_count": 17,
     "metadata": {},
     "output_type": "execute_result"
    }
   ],
   "source": [
    "tst.get_type_similarity(\"http://dbpedia.org/ontology/Town\", \"http://dbpedia.org/ontology/Village\")"
   ]
  },
  {
   "cell_type": "code",
   "execution_count": 18,
   "metadata": {
    "collapsed": false
   },
   "outputs": [
    {
     "name": "stderr",
     "output_type": "stream",
     "text": [
      "INFO:TypeSimilarityTools:SimilarityCalculator.get_instance_cooccurrence: Found instance cooccurrence in : 0:00:00.275832\n",
      "INFO:TypeSimilarityTools:SimilarityCalculator.get_all_parent_concept_values: Got parents for best parent search in : 0:00:00.026447\n",
      "INFO:TypeSimilarityTools:SimilarityCalculator.get_all_parent_concept_values: Got parent values in: 0:00:02.485168\n",
      "INFO:TypeSimilarityTools:SimilarityCalculator.get_best_parent_concept_value: Found best parent in : 0:00:02.514233\n"
     ]
    },
    {
     "data": {
      "text/plain": [
       "0.292388852843946"
      ]
     },
     "execution_count": 18,
     "metadata": {},
     "output_type": "execute_result"
    }
   ],
   "source": [
    "tst.get_type_similarity(\"http://dbpedia.org/ontology/Town\", \"http://dbpedia.org/ontology/PopulatedPlace\")"
   ]
  },
  {
   "cell_type": "code",
   "execution_count": 19,
   "metadata": {
    "collapsed": false
   },
   "outputs": [
    {
     "name": "stderr",
     "output_type": "stream",
     "text": [
      "INFO:TypeSimilarityTools:SimilarityCalculator.get_instance_cooccurrence: Found instance cooccurrence in : 0:00:00.253452\n",
      "INFO:TypeSimilarityTools:SimilarityCalculator.get_all_parent_concept_values: Got parents for best parent search in : 0:00:00.042647\n",
      "INFO:TypeSimilarityTools:SimilarityCalculator.get_all_parent_concept_values: Got parent values in: 0:00:02.502277\n",
      "INFO:TypeSimilarityTools:SimilarityCalculator.get_best_parent_concept_value: Found best parent in : 0:00:02.548081\n"
     ]
    },
    {
     "data": {
      "text/plain": [
       "0.2625359162109556"
      ]
     },
     "execution_count": 19,
     "metadata": {},
     "output_type": "execute_result"
    }
   ],
   "source": [
    "tst.get_type_similarity(\"http://dbpedia.org/ontology/City\", \"http://dbpedia.org/ontology/PopulatedPlace\")"
   ]
  },
  {
   "cell_type": "code",
   "execution_count": 20,
   "metadata": {
    "collapsed": false
   },
   "outputs": [
    {
     "name": "stderr",
     "output_type": "stream",
     "text": [
      "INFO:TypeSimilarityTools:SimilarityCalculator.get_all_parent_concept_values: Got parents for best parent search in : 0:00:00.038499\n",
      "INFO:TypeSimilarityTools:SimilarityCalculator.get_all_parent_concept_values: Got parent values in: 0:00:01.901277\n",
      "INFO:TypeSimilarityTools:SimilarityCalculator.get_best_parent_concept_value: Found best parent in : 0:00:01.942768\n"
     ]
    },
    {
     "data": {
      "text/plain": [
       "0.022615627027528035"
      ]
     },
     "execution_count": 20,
     "metadata": {},
     "output_type": "execute_result"
    }
   ],
   "source": [
    "tst.get_type_similarity(\"http://dbpedia.org/ontology/Town\", \"http://dbpedia.org/ontology/Region\")"
   ]
  },
  {
   "cell_type": "code",
   "execution_count": 23,
   "metadata": {
    "collapsed": false
   },
   "outputs": [
    {
     "name": "stderr",
     "output_type": "stream",
     "text": [
      "INFO:TypeSimilarityTools:SimilarityCalculator.get_all_parent_concept_values: Got parents for best parent search in : 0:00:00.042082\n",
      "INFO:TypeSimilarityTools:SimilarityCalculator.get_all_parent_concept_values: Got parent values in: 0:00:01.703320\n",
      "INFO:TypeSimilarityTools:SimilarityCalculator.get_best_parent_concept_value: Found best parent in : 0:00:01.747795\n"
     ]
    },
    {
     "data": {
      "text/plain": [
       "0"
      ]
     },
     "execution_count": 23,
     "metadata": {},
     "output_type": "execute_result"
    }
   ],
   "source": [
    "tst.get_type_similarity(\"http://dbpedia.org/ontology/Community\", \"http://dbpedia.org/ontology/GatedCommunity\")"
   ]
  },
  {
   "cell_type": "code",
   "execution_count": null,
   "metadata": {
    "collapsed": true
   },
   "outputs": [],
   "source": [
    "tst.get_type_similarity(\"http://dbpedia.org/ontology/Community\", \"http://dbpedia.org/ontology/GatedCommunity\")"
   ]
  }
 ],
 "metadata": {
  "kernelspec": {
   "display_name": "Python 2",
   "language": "python",
   "name": "python2"
  },
  "language_info": {
   "codemirror_mode": {
    "name": "ipython",
    "version": 2
   },
   "file_extension": ".py",
   "mimetype": "text/x-python",
   "name": "python",
   "nbconvert_exporter": "python",
   "pygments_lexer": "ipython2",
   "version": "2.7.10"
  }
 },
 "nbformat": 4,
 "nbformat_minor": 0
}
